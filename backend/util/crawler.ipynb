{
 "cells": [
  {
   "cell_type": "code",
   "execution_count": 1,
   "metadata": {},
   "outputs": [
    {
     "ename": "ModuleNotFoundError",
     "evalue": "No module named 'firecrawl'",
     "output_type": "error",
     "traceback": [
      "\u001b[0;31m---------------------------------------------------------------------------\u001b[0m",
      "\u001b[0;31mModuleNotFoundError\u001b[0m                       Traceback (most recent call last)",
      "Cell \u001b[0;32mIn[1], line 1\u001b[0m\n\u001b[0;32m----> 1\u001b[0m \u001b[38;5;28;01mfrom\u001b[39;00m\u001b[38;5;250m \u001b[39m\u001b[38;5;21;01mfirecrawl\u001b[39;00m\u001b[38;5;21;01m.\u001b[39;00m\u001b[38;5;21;01mfirecrawl\u001b[39;00m\u001b[38;5;250m \u001b[39m\u001b[38;5;28;01mimport\u001b[39;00m FirecrawlApp\n\u001b[1;32m      3\u001b[0m \u001b[38;5;66;03m# import util.gpt as gpt\u001b[39;00m\n\u001b[1;32m      4\u001b[0m \u001b[38;5;28;01mimport\u001b[39;00m\u001b[38;5;250m \u001b[39m\u001b[38;5;21;01mgpt\u001b[39;00m\n",
      "\u001b[0;31mModuleNotFoundError\u001b[0m: No module named 'firecrawl'"
     ]
    }
   ],
   "source": [
    "from firecrawl.firecrawl import FirecrawlApp\n",
    "\n",
    "# import util.gpt as gpt\n",
    "import gpt\n",
    "\n",
    "app = FirecrawlApp(api_key=\"fc-bf8738e43b3046f8a5987087a6b53455\")\n",
    "\n",
    "# Scrape a website:\n",
    "# 'https://firecrawl.dev'\n",
    "url = 'https://music.163.com/#/user/songs/rank?id=354879837'\n",
    "scrape_status = app.scrape_url(\n",
    "  url, \n",
    "  params={\n",
    "    'formats': ['markdown', 'html'],\n",
    "    'actions': [\n",
    "        {\"type\": \"wait\", \"milliseconds\": 2000},\n",
    "    ]\n",
    "  },\n",
    ")\n",
    "res = scrape_status['markdown']\n",
    "# print(res)\n",
    "print(\"-----------------------------------\")"
   ]
  },
  {
   "cell_type": "code",
   "execution_count": null,
   "metadata": {},
   "outputs": [],
   "source": [
    "\n",
    "prompt = f\"\"\"\n",
    "Given the following HTML content, extract the songs and artists from the page. \n",
    "HTML content:\n",
    "{res}\n",
    "\n",
    "Output the result in JSON format. For example:\n",
    "[\n",
    "    {\n",
    "        \"song\": \"葡萄成熟时\",\n",
    "        \"artists\": [\"陈奕迅\"]\n",
    "    },\n",
    "    {\n",
    "        \"song\": \"兄妹\",\n",
    "        \"artists\": [\"陈奕迅\"]\n",
    "    },\n",
    "    {\n",
    "        \"song\": \"岁月如歌\",\n",
    "        \"artists\": [\"陈奕迅\"]\n",
    "    },\n",
    "    ...\n",
    "]\n",
    "\n",
    "\"\"\"\n",
    "\n",
    "llm_result = gpt.personal_gpt(prompt, model_choice='gpt4o_mini')\n",
    "print(llm_result)"
   ]
  },
  {
   "cell_type": "code",
   "execution_count": null,
   "metadata": {},
   "outputs": [],
   "source": []
  },
  {
   "cell_type": "code",
   "execution_count": null,
   "metadata": {},
   "outputs": [],
   "source": []
  },
  {
   "cell_type": "code",
   "execution_count": null,
   "metadata": {},
   "outputs": [],
   "source": []
  }
 ],
 "metadata": {
  "kernelspec": {
   "display_name": "Python 3",
   "language": "python",
   "name": "python3"
  },
  "language_info": {
   "codemirror_mode": {
    "name": "ipython",
    "version": 3
   },
   "file_extension": ".py",
   "mimetype": "text/x-python",
   "name": "python",
   "nbconvert_exporter": "python",
   "pygments_lexer": "ipython3",
   "version": "3.9.6"
  }
 },
 "nbformat": 4,
 "nbformat_minor": 2
}
